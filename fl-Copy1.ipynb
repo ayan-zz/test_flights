{
 "cells": [
  {
   "cell_type": "code",
   "execution_count": 8,
   "metadata": {},
   "outputs": [],
   "source": [
    "#import libraries and path\n",
    "import pandas as pd\n",
    "import os, sys\n",
    "if \"__main__\" == __name__:\n",
    "    workingDirectory  = os.path.realpath(sys.argv[0])\n",
    "fileName_2 = os.path.join( workingDirectory, 'C://Users//pc//Desktop//profile//New folder (2)//data//airports.csv' )\n",
    "fileName_3 = os.path.join( workingDirectory, 'C://Users//pc//Desktop//profile//New folder (2)//data//flights.csv' )\n",
    "fileName_4 = os.path.join( workingDirectory, 'C://Users//pc//Desktop//profile//New folder (2)//data//planes.csv' )\n",
    "ap= pd.read_csv(fileName_2)\n",
    "fl= pd.read_csv(fileName_3)\n",
    "pl= pd.read_csv(fileName_4)"
   ]
  },
  {
   "cell_type": "code",
   "execution_count": 9,
   "metadata": {},
   "outputs": [],
   "source": [
    "##query1: how many total number of days does the flights table cover?\n",
    "num_days=len(fl.day.unique()) "
   ]
  },
  {
   "cell_type": "code",
   "execution_count": 10,
   "metadata": {},
   "outputs": [],
   "source": [
    "##query2: how many departure cities (not airports) does the flights database cover?\n",
    "a=fl['dest'].unique()\n",
    "for d in a:\n",
    "    city=ap.CITY.unique()\n",
    "    dest_city=city"
   ]
  },
  {
   "cell_type": "code",
   "execution_count": 11,
   "metadata": {},
   "outputs": [],
   "source": [
    "##query3: what is the relationship between flights and planes tables?\n",
    "total = pd.merge(pl, fl, on=[\"tailnum\", \"tailnum\"])"
   ]
  },
  {
   "cell_type": "code",
   "execution_count": 12,
   "metadata": {},
   "outputs": [],
   "source": [
    "##query4: which airplane manufacturer incurred the most delays in the analysis period?\n",
    "delay=total.groupby('manufacturer').arr_delay.sum()\n",
    "delay_airline_manf=delay.idxmax(axis=1)"
   ]
  },
  {
   "cell_type": "code",
   "execution_count": 13,
   "metadata": {},
   "outputs": [],
   "source": [
    "##query5: which are the two most connected cities?\n",
    "max_city= ap['CITY'].value_counts()[:2]"
   ]
  },
  {
   "cell_type": "code",
   "execution_count": null,
   "metadata": {},
   "outputs": [],
   "source": []
  },
  {
   "cell_type": "code",
   "execution_count": null,
   "metadata": {},
   "outputs": [],
   "source": []
  }
 ],
 "metadata": {
  "kernelspec": {
   "display_name": "Python 3",
   "language": "python",
   "name": "python3"
  },
  "language_info": {
   "codemirror_mode": {
    "name": "ipython",
    "version": 3
   },
   "file_extension": ".py",
   "mimetype": "text/x-python",
   "name": "python",
   "nbconvert_exporter": "python",
   "pygments_lexer": "ipython3",
   "version": "3.7.4"
  }
 },
 "nbformat": 4,
 "nbformat_minor": 2
}
